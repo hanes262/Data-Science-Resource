{
 "cells": [
  {
   "cell_type": "code",
   "execution_count": 234,
   "metadata": {
    "collapsed": true,
    "jupyter": {
     "outputs_hidden": true
    }
   },
   "outputs": [],
   "source": [
    "import numpy as np\n",
    "import pandas as pd\n",
    "import matplotlib.pyplot as plt\n",
    "from pandas import ExcelWriter\n",
    "from pandas import ExcelFile\n"
   ]
  },
  {
   "cell_type": "code",
   "execution_count": 235,
   "metadata": {
    "collapsed": true,
    "jupyter": {
     "outputs_hidden": true
    }
   },
   "outputs": [],
   "source": [
    "data = pd.read_excel('Data Untuk DQLab Challenge_AmarthaProperty.xlsx', sheetname='Data')"
   ]
  },
  {
   "cell_type": "code",
   "execution_count": 236,
   "metadata": {
    "collapsed": false,
    "jupyter": {
     "outputs_hidden": false
    }
   },
   "outputs": [
    {
     "data": {
      "text/html": [
       "<div>\n",
       "<table border=\"1\" class=\"dataframe\">\n",
       "  <thead>\n",
       "    <tr style=\"text-align: right;\">\n",
       "      <th></th>\n",
       "      <th>branch</th>\n",
       "      <th>cutoff_date</th>\n",
       "      <th>area</th>\n",
       "      <th>region</th>\n",
       "      <th>first_date_disbursement</th>\n",
       "      <th>active_borrowers</th>\n",
       "      <th>active_agent</th>\n",
       "      <th>deliquency_rate</th>\n",
       "      <th>outstanding</th>\n",
       "      <th>weekly_disbursement</th>\n",
       "      <th>weekly_new_borrower_per_bp</th>\n",
       "    </tr>\n",
       "  </thead>\n",
       "  <tbody>\n",
       "    <tr>\n",
       "      <th>0</th>\n",
       "      <td>POINTID_42</td>\n",
       "      <td>2018-10-20</td>\n",
       "      <td>AREAID_27</td>\n",
       "      <td>REGION_JR1</td>\n",
       "      <td>2017-09-09</td>\n",
       "      <td>1108</td>\n",
       "      <td>5</td>\n",
       "      <td>1%-2.5%</td>\n",
       "      <td>2150</td>\n",
       "      <td>20</td>\n",
       "      <td>3.0</td>\n",
       "    </tr>\n",
       "    <tr>\n",
       "      <th>1</th>\n",
       "      <td>POINTID_35</td>\n",
       "      <td>2018-10-20</td>\n",
       "      <td>AREAID_1</td>\n",
       "      <td>REGION_JH</td>\n",
       "      <td>2017-07-29</td>\n",
       "      <td>1515</td>\n",
       "      <td>7</td>\n",
       "      <td>5%-10%</td>\n",
       "      <td>2500</td>\n",
       "      <td>110</td>\n",
       "      <td>1.0</td>\n",
       "    </tr>\n",
       "    <tr>\n",
       "      <th>2</th>\n",
       "      <td>POINTID_24</td>\n",
       "      <td>2018-10-20</td>\n",
       "      <td>AREAID_20</td>\n",
       "      <td>REGION_JH</td>\n",
       "      <td>2017-06-10</td>\n",
       "      <td>1092</td>\n",
       "      <td>5</td>\n",
       "      <td>2.5%-5%</td>\n",
       "      <td>1850</td>\n",
       "      <td>75</td>\n",
       "      <td>7.0</td>\n",
       "    </tr>\n",
       "    <tr>\n",
       "      <th>3</th>\n",
       "      <td>POINTID_62</td>\n",
       "      <td>2018-10-20</td>\n",
       "      <td>AREAID_13</td>\n",
       "      <td>REGION_JR2</td>\n",
       "      <td>2018-05-05</td>\n",
       "      <td>683</td>\n",
       "      <td>3</td>\n",
       "      <td>0%</td>\n",
       "      <td>1600</td>\n",
       "      <td>145</td>\n",
       "      <td>17.0</td>\n",
       "    </tr>\n",
       "    <tr>\n",
       "      <th>4</th>\n",
       "      <td>POINTID_45</td>\n",
       "      <td>2018-10-20</td>\n",
       "      <td>AREAID_21</td>\n",
       "      <td>REGION_JR1</td>\n",
       "      <td>2017-09-16</td>\n",
       "      <td>2294</td>\n",
       "      <td>8</td>\n",
       "      <td>0%-1%</td>\n",
       "      <td>4300</td>\n",
       "      <td>50</td>\n",
       "      <td>7.0</td>\n",
       "    </tr>\n",
       "  </tbody>\n",
       "</table>\n",
       "</div>"
      ],
      "text/plain": [
       "       branch cutoff_date       area      region first_date_disbursement  \\\n",
       "0  POINTID_42  2018-10-20  AREAID_27  REGION_JR1              2017-09-09   \n",
       "1  POINTID_35  2018-10-20   AREAID_1   REGION_JH              2017-07-29   \n",
       "2  POINTID_24  2018-10-20  AREAID_20   REGION_JH              2017-06-10   \n",
       "3  POINTID_62  2018-10-20  AREAID_13  REGION_JR2              2018-05-05   \n",
       "4  POINTID_45  2018-10-20  AREAID_21  REGION_JR1              2017-09-16   \n",
       "\n",
       "   active_borrowers  active_agent deliquency_rate  outstanding  \\\n",
       "0              1108             5         1%-2.5%         2150   \n",
       "1              1515             7          5%-10%         2500   \n",
       "2              1092             5         2.5%-5%         1850   \n",
       "3               683             3              0%         1600   \n",
       "4              2294             8           0%-1%         4300   \n",
       "\n",
       "   weekly_disbursement  weekly_new_borrower_per_bp  \n",
       "0                   20                         3.0  \n",
       "1                  110                         1.0  \n",
       "2                   75                         7.0  \n",
       "3                  145                        17.0  \n",
       "4                   50                         7.0  "
      ]
     },
     "execution_count": 236,
     "metadata": {},
     "output_type": "execute_result"
    }
   ],
   "source": [
    "data.head()"
   ]
  },
  {
   "cell_type": "code",
   "execution_count": 237,
   "metadata": {
    "collapsed": false,
    "jupyter": {
     "outputs_hidden": false
    }
   },
   "outputs": [
    {
     "data": {
      "text/html": [
       "<div>\n",
       "<table border=\"1\" class=\"dataframe\">\n",
       "  <thead>\n",
       "    <tr style=\"text-align: right;\">\n",
       "      <th></th>\n",
       "      <th>active_borrowers</th>\n",
       "      <th>active_agent</th>\n",
       "      <th>outstanding</th>\n",
       "      <th>weekly_disbursement</th>\n",
       "      <th>weekly_new_borrower_per_bp</th>\n",
       "    </tr>\n",
       "  </thead>\n",
       "  <tbody>\n",
       "    <tr>\n",
       "      <th>count</th>\n",
       "      <td>3703.000000</td>\n",
       "      <td>3703.000000</td>\n",
       "      <td>3703.000000</td>\n",
       "      <td>3703.000000</td>\n",
       "      <td>3540.000000</td>\n",
       "    </tr>\n",
       "    <tr>\n",
       "      <th>mean</th>\n",
       "      <td>891.071294</td>\n",
       "      <td>5.139076</td>\n",
       "      <td>2050.823656</td>\n",
       "      <td>121.147718</td>\n",
       "      <td>11.155932</td>\n",
       "    </tr>\n",
       "    <tr>\n",
       "      <th>std</th>\n",
       "      <td>665.761622</td>\n",
       "      <td>2.323940</td>\n",
       "      <td>1517.108892</td>\n",
       "      <td>100.785237</td>\n",
       "      <td>8.297007</td>\n",
       "    </tr>\n",
       "    <tr>\n",
       "      <th>min</th>\n",
       "      <td>8.000000</td>\n",
       "      <td>1.000000</td>\n",
       "      <td>0.000000</td>\n",
       "      <td>0.000000</td>\n",
       "      <td>0.000000</td>\n",
       "    </tr>\n",
       "    <tr>\n",
       "      <th>25%</th>\n",
       "      <td>319.500000</td>\n",
       "      <td>3.000000</td>\n",
       "      <td>850.000000</td>\n",
       "      <td>50.000000</td>\n",
       "      <td>5.000000</td>\n",
       "    </tr>\n",
       "    <tr>\n",
       "      <th>50%</th>\n",
       "      <td>810.000000</td>\n",
       "      <td>5.000000</td>\n",
       "      <td>1800.000000</td>\n",
       "      <td>100.000000</td>\n",
       "      <td>9.000000</td>\n",
       "    </tr>\n",
       "    <tr>\n",
       "      <th>75%</th>\n",
       "      <td>1330.000000</td>\n",
       "      <td>7.000000</td>\n",
       "      <td>2950.000000</td>\n",
       "      <td>165.000000</td>\n",
       "      <td>15.000000</td>\n",
       "    </tr>\n",
       "    <tr>\n",
       "      <th>max</th>\n",
       "      <td>2985.000000</td>\n",
       "      <td>13.000000</td>\n",
       "      <td>7800.000000</td>\n",
       "      <td>830.000000</td>\n",
       "      <td>77.000000</td>\n",
       "    </tr>\n",
       "  </tbody>\n",
       "</table>\n",
       "</div>"
      ],
      "text/plain": [
       "       active_borrowers  active_agent  outstanding  weekly_disbursement  \\\n",
       "count       3703.000000   3703.000000  3703.000000          3703.000000   \n",
       "mean         891.071294      5.139076  2050.823656           121.147718   \n",
       "std          665.761622      2.323940  1517.108892           100.785237   \n",
       "min            8.000000      1.000000     0.000000             0.000000   \n",
       "25%          319.500000      3.000000   850.000000            50.000000   \n",
       "50%          810.000000      5.000000  1800.000000           100.000000   \n",
       "75%         1330.000000      7.000000  2950.000000           165.000000   \n",
       "max         2985.000000     13.000000  7800.000000           830.000000   \n",
       "\n",
       "       weekly_new_borrower_per_bp  \n",
       "count                 3540.000000  \n",
       "mean                    11.155932  \n",
       "std                      8.297007  \n",
       "min                      0.000000  \n",
       "25%                      5.000000  \n",
       "50%                      9.000000  \n",
       "75%                     15.000000  \n",
       "max                     77.000000  "
      ]
     },
     "execution_count": 237,
     "metadata": {},
     "output_type": "execute_result"
    }
   ],
   "source": [
    "data.describe()"
   ]
  },
  {
   "cell_type": "code",
   "execution_count": 238,
   "metadata": {
    "collapsed": false,
    "jupyter": {
     "outputs_hidden": false
    }
   },
   "outputs": [
    {
     "name": "stdout",
     "output_type": "stream",
     "text": [
      "<class 'pandas.core.frame.DataFrame'>\n",
      "RangeIndex: 3703 entries, 0 to 3702\n",
      "Data columns (total 11 columns):\n",
      "branch                        3703 non-null object\n",
      "cutoff_date                   3703 non-null object\n",
      "area                          3703 non-null object\n",
      "region                        3703 non-null object\n",
      "first_date_disbursement       3703 non-null object\n",
      "active_borrowers              3703 non-null int64\n",
      "active_agent                  3703 non-null int64\n",
      "deliquency_rate               3703 non-null object\n",
      "outstanding                   3703 non-null int64\n",
      "weekly_disbursement           3703 non-null int64\n",
      "weekly_new_borrower_per_bp    3540 non-null float64\n",
      "dtypes: float64(1), int64(4), object(6)\n",
      "memory usage: 318.3+ KB\n"
     ]
    }
   ],
   "source": [
    "data.info()"
   ]
  },
  {
   "cell_type": "code",
   "execution_count": 239,
   "metadata": {
    "collapsed": false,
    "jupyter": {
     "outputs_hidden": false
    }
   },
   "outputs": [],
   "source": [
    "data.loc[data['deliquency_rate']== '0%','deliquency_rate'] = 1\n",
    "data.loc[data['deliquency_rate']== '0%-1%','deliquency_rate'] = 2\n",
    "data.loc[data['deliquency_rate']== '1%-2.5%','deliquency_rate'] = 3\n",
    "data.loc[data['deliquency_rate']== '2.5%-5%','deliquency_rate'] = 4\n",
    "data.loc[data['deliquency_rate']== '5%-10%','deliquency_rate'] = 5\n",
    "data.loc[data['deliquency_rate']== '>10%','deliquency_rate'] = 6"
   ]
  },
  {
   "cell_type": "code",
   "execution_count": 240,
   "metadata": {
    "collapsed": false,
    "jupyter": {
     "outputs_hidden": false
    }
   },
   "outputs": [],
   "source": [
    "data['deliquency_rate'] = data['deliquency_rate'].astype('float')"
   ]
  },
  {
   "cell_type": "code",
   "execution_count": 241,
   "metadata": {
    "collapsed": true,
    "jupyter": {
     "outputs_hidden": true
    }
   },
   "outputs": [],
   "source": [
    "data.loc[data['weekly_new_borrower_per_bp'].isnull(),'weekly_new_borrower_per_bp'] = data['weekly_new_borrower_per_bp'].mean()"
   ]
  },
  {
   "cell_type": "code",
   "execution_count": 242,
   "metadata": {
    "collapsed": false,
    "jupyter": {
     "outputs_hidden": false
    }
   },
   "outputs": [],
   "source": [
    "num = data.columns[5:]"
   ]
  },
  {
   "cell_type": "code",
   "execution_count": 243,
   "metadata": {
    "collapsed": true,
    "jupyter": {
     "outputs_hidden": true
    }
   },
   "outputs": [],
   "source": [
    "def insert_data(branch):\n",
    "    x = []\n",
    "    for col in num:\n",
    "        x.append(data.loc[data['branch']==branch].describe().loc['mean',col])\n",
    "    return x"
   ]
  },
  {
   "cell_type": "code",
   "execution_count": 244,
   "metadata": {
    "collapsed": false,
    "jupyter": {
     "outputs_hidden": false
    }
   },
   "outputs": [],
   "source": [
    "data_per_branch = []\n",
    "for i in data['branch'].unique():\n",
    "    data_per_branch.append(insert_data(i))"
   ]
  },
  {
   "cell_type": "code",
   "execution_count": 245,
   "metadata": {
    "collapsed": false,
    "jupyter": {
     "outputs_hidden": false
    }
   },
   "outputs": [],
   "source": [
    "data_per_branch = np.array(data_per_branch)"
   ]
  },
  {
   "cell_type": "code",
   "execution_count": 246,
   "metadata": {
    "collapsed": false,
    "jupyter": {
     "outputs_hidden": false
    }
   },
   "outputs": [
    {
     "data": {
      "text/plain": [
       "Index(['active_borrowers', 'active_agent', 'deliquency_rate', 'outstanding',\n",
       "       'weekly_disbursement', 'weekly_new_borrower_per_bp'],\n",
       "      dtype='object')"
      ]
     },
     "execution_count": 246,
     "metadata": {},
     "output_type": "execute_result"
    }
   ],
   "source": [
    "num"
   ]
  },
  {
   "cell_type": "code",
   "execution_count": 247,
   "metadata": {
    "collapsed": false,
    "jupyter": {
     "outputs_hidden": false
    }
   },
   "outputs": [],
   "source": [
    "new_data = pd.DataFrame({'branch':data['branch'].unique(),'active_borrowers':data_per_branch[:,0],'active_agent':data_per_branch[:,1],\n",
    "             'deliquency_rate':data_per_branch[:,2],'outstanding':data_per_branch[:,3],'weekly_disbursement':data_per_branch[:,4],\n",
    "             'weekly_new_borrower_per_bp':data_per_branch[:,5]})"
   ]
  },
  {
   "cell_type": "code",
   "execution_count": 248,
   "metadata": {
    "collapsed": false,
    "jupyter": {
     "outputs_hidden": false
    }
   },
   "outputs": [
    {
     "data": {
      "text/html": [
       "<div>\n",
       "<table border=\"1\" class=\"dataframe\">\n",
       "  <thead>\n",
       "    <tr style=\"text-align: right;\">\n",
       "      <th></th>\n",
       "      <th>active_agent</th>\n",
       "      <th>active_borrowers</th>\n",
       "      <th>branch</th>\n",
       "      <th>deliquency_rate</th>\n",
       "      <th>outstanding</th>\n",
       "      <th>weekly_disbursement</th>\n",
       "      <th>weekly_new_borrower_per_bp</th>\n",
       "    </tr>\n",
       "  </thead>\n",
       "  <tbody>\n",
       "    <tr>\n",
       "      <th>0</th>\n",
       "      <td>4.421053</td>\n",
       "      <td>785.508772</td>\n",
       "      <td>POINTID_42</td>\n",
       "      <td>1.140351</td>\n",
       "      <td>1853.508772</td>\n",
       "      <td>98.859649</td>\n",
       "      <td>9.406244</td>\n",
       "    </tr>\n",
       "    <tr>\n",
       "      <th>1</th>\n",
       "      <td>4.968254</td>\n",
       "      <td>1004.777778</td>\n",
       "      <td>POINTID_35</td>\n",
       "      <td>2.603175</td>\n",
       "      <td>1975.396825</td>\n",
       "      <td>101.349206</td>\n",
       "      <td>9.732634</td>\n",
       "    </tr>\n",
       "    <tr>\n",
       "      <th>2</th>\n",
       "      <td>4.058824</td>\n",
       "      <td>591.044118</td>\n",
       "      <td>POINTID_24</td>\n",
       "      <td>1.220588</td>\n",
       "      <td>1135.294118</td>\n",
       "      <td>57.573529</td>\n",
       "      <td>7.381406</td>\n",
       "    </tr>\n",
       "    <tr>\n",
       "      <th>3</th>\n",
       "      <td>2.217391</td>\n",
       "      <td>327.826087</td>\n",
       "      <td>POINTID_62</td>\n",
       "      <td>1.000000</td>\n",
       "      <td>802.173913</td>\n",
       "      <td>86.304348</td>\n",
       "      <td>16.137214</td>\n",
       "    </tr>\n",
       "    <tr>\n",
       "      <th>4</th>\n",
       "      <td>7.767857</td>\n",
       "      <td>1302.267857</td>\n",
       "      <td>POINTID_45</td>\n",
       "      <td>1.232143</td>\n",
       "      <td>3075.000000</td>\n",
       "      <td>175.178571</td>\n",
       "      <td>11.484927</td>\n",
       "    </tr>\n",
       "  </tbody>\n",
       "</table>\n",
       "</div>"
      ],
      "text/plain": [
       "   active_agent  active_borrowers      branch  deliquency_rate  outstanding  \\\n",
       "0      4.421053        785.508772  POINTID_42         1.140351  1853.508772   \n",
       "1      4.968254       1004.777778  POINTID_35         2.603175  1975.396825   \n",
       "2      4.058824        591.044118  POINTID_24         1.220588  1135.294118   \n",
       "3      2.217391        327.826087  POINTID_62         1.000000   802.173913   \n",
       "4      7.767857       1302.267857  POINTID_45         1.232143  3075.000000   \n",
       "\n",
       "   weekly_disbursement  weekly_new_borrower_per_bp  \n",
       "0            98.859649                    9.406244  \n",
       "1           101.349206                    9.732634  \n",
       "2            57.573529                    7.381406  \n",
       "3            86.304348                   16.137214  \n",
       "4           175.178571                   11.484927  "
      ]
     },
     "execution_count": 248,
     "metadata": {},
     "output_type": "execute_result"
    }
   ],
   "source": [
    "new_data.head()"
   ]
  },
  {
   "cell_type": "code",
   "execution_count": 249,
   "metadata": {
    "collapsed": false,
    "jupyter": {
     "outputs_hidden": false
    }
   },
   "outputs": [
    {
     "data": {
      "text/html": [
       "<div>\n",
       "<table border=\"1\" class=\"dataframe\">\n",
       "  <thead>\n",
       "    <tr style=\"text-align: right;\">\n",
       "      <th></th>\n",
       "      <th>active_agent</th>\n",
       "      <th>active_borrowers</th>\n",
       "      <th>deliquency_rate</th>\n",
       "      <th>outstanding</th>\n",
       "      <th>weekly_disbursement</th>\n",
       "      <th>weekly_new_borrower_per_bp</th>\n",
       "    </tr>\n",
       "  </thead>\n",
       "  <tbody>\n",
       "    <tr>\n",
       "      <th>count</th>\n",
       "      <td>99.000000</td>\n",
       "      <td>99.000000</td>\n",
       "      <td>99.000000</td>\n",
       "      <td>99.000000</td>\n",
       "      <td>99.000000</td>\n",
       "      <td>99.000000</td>\n",
       "    </tr>\n",
       "    <tr>\n",
       "      <th>mean</th>\n",
       "      <td>3.730403</td>\n",
       "      <td>587.231920</td>\n",
       "      <td>1.292855</td>\n",
       "      <td>1384.068674</td>\n",
       "      <td>108.341511</td>\n",
       "      <td>13.572374</td>\n",
       "    </tr>\n",
       "    <tr>\n",
       "      <th>std</th>\n",
       "      <td>2.075832</td>\n",
       "      <td>461.143313</td>\n",
       "      <td>0.602047</td>\n",
       "      <td>1044.621764</td>\n",
       "      <td>41.536605</td>\n",
       "      <td>4.315809</td>\n",
       "    </tr>\n",
       "    <tr>\n",
       "      <th>min</th>\n",
       "      <td>1.000000</td>\n",
       "      <td>33.666667</td>\n",
       "      <td>1.000000</td>\n",
       "      <td>75.000000</td>\n",
       "      <td>6.250000</td>\n",
       "      <td>5.849252</td>\n",
       "    </tr>\n",
       "    <tr>\n",
       "      <th>25%</th>\n",
       "      <td>2.000000</td>\n",
       "      <td>200.792208</td>\n",
       "      <td>1.000000</td>\n",
       "      <td>559.740260</td>\n",
       "      <td>81.337793</td>\n",
       "      <td>10.072246</td>\n",
       "    </tr>\n",
       "    <tr>\n",
       "      <th>50%</th>\n",
       "      <td>2.600000</td>\n",
       "      <td>342.476190</td>\n",
       "      <td>1.000000</td>\n",
       "      <td>957.500000</td>\n",
       "      <td>102.500000</td>\n",
       "      <td>13.419915</td>\n",
       "    </tr>\n",
       "    <tr>\n",
       "      <th>75%</th>\n",
       "      <td>5.676587</td>\n",
       "      <td>953.740680</td>\n",
       "      <td>1.268438</td>\n",
       "      <td>2154.956697</td>\n",
       "      <td>129.913265</td>\n",
       "      <td>16.068607</td>\n",
       "    </tr>\n",
       "    <tr>\n",
       "      <th>max</th>\n",
       "      <td>9.303797</td>\n",
       "      <td>2068.177215</td>\n",
       "      <td>5.000000</td>\n",
       "      <td>4913.291139</td>\n",
       "      <td>252.658228</td>\n",
       "      <td>25.454545</td>\n",
       "    </tr>\n",
       "  </tbody>\n",
       "</table>\n",
       "</div>"
      ],
      "text/plain": [
       "       active_agent  active_borrowers  deliquency_rate  outstanding  \\\n",
       "count     99.000000         99.000000        99.000000    99.000000   \n",
       "mean       3.730403        587.231920         1.292855  1384.068674   \n",
       "std        2.075832        461.143313         0.602047  1044.621764   \n",
       "min        1.000000         33.666667         1.000000    75.000000   \n",
       "25%        2.000000        200.792208         1.000000   559.740260   \n",
       "50%        2.600000        342.476190         1.000000   957.500000   \n",
       "75%        5.676587        953.740680         1.268438  2154.956697   \n",
       "max        9.303797       2068.177215         5.000000  4913.291139   \n",
       "\n",
       "       weekly_disbursement  weekly_new_borrower_per_bp  \n",
       "count            99.000000                   99.000000  \n",
       "mean            108.341511                   13.572374  \n",
       "std              41.536605                    4.315809  \n",
       "min               6.250000                    5.849252  \n",
       "25%              81.337793                   10.072246  \n",
       "50%             102.500000                   13.419915  \n",
       "75%             129.913265                   16.068607  \n",
       "max             252.658228                   25.454545  "
      ]
     },
     "execution_count": 249,
     "metadata": {},
     "output_type": "execute_result"
    }
   ],
   "source": [
    "new_data.describe()"
   ]
  },
  {
   "cell_type": "code",
   "execution_count": 250,
   "metadata": {
    "collapsed": false,
    "jupyter": {
     "outputs_hidden": false
    }
   },
   "outputs": [],
   "source": [
    "#indeks 96 adalah cabang POINTID_118 yang nilainya aneh\n",
    "new_data = new_data.drop(96)"
   ]
  },
  {
   "cell_type": "markdown",
   "metadata": {},
   "source": [
    "## Clustering and Analysis"
   ]
  },
  {
   "cell_type": "code",
   "execution_count": 215,
   "metadata": {
    "collapsed": false,
    "jupyter": {
     "outputs_hidden": false
    }
   },
   "outputs": [],
   "source": [
    "from sklearn import preprocessing\n",
    "from sklearn.decomposition import PCA\n",
    "X_scaled = preprocessing.scale(new_data.drop('branch',axis=1))\n",
    "pca = PCA(n_components=2)\n",
    "df = pca.fit_transform(X_scaled)\n",
    "df = pd.DataFrame(df)"
   ]
  },
  {
   "cell_type": "code",
   "execution_count": 216,
   "metadata": {
    "collapsed": false,
    "jupyter": {
     "outputs_hidden": false
    }
   },
   "outputs": [
    {
     "data": {
      "text/plain": [
       "array([ 0.68219917,  0.21375032])"
      ]
     },
     "execution_count": 216,
     "metadata": {},
     "output_type": "execute_result"
    }
   ],
   "source": [
    "pca.explained_variance_ratio_"
   ]
  },
  {
   "cell_type": "code",
   "execution_count": 217,
   "metadata": {
    "collapsed": false,
    "jupyter": {
     "outputs_hidden": false
    }
   },
   "outputs": [
    {
     "data": {
      "image/png": "[encoded data removed]",
      "text/plain": [
       "<matplotlib.figure.Figure at 0x2273645ff60>"
      ]
     },
     "metadata": {},
     "output_type": "display_data"
    }
   ],
   "source": [
    "n_init = 10\n",
    "max_iter = 300\n",
    "tol = 0.0001\n",
    "n_jobs = 2\n",
    "\n",
    "plt.figure(figsize=(10, 8))\n",
    "from sklearn.cluster import KMeans\n",
    "wcss = []\n",
    "for i in range(1, 11):\n",
    "    kmeans = KMeans(n_clusters = i, init = 'k-means++', random_state = 42,n_init=n_init,\n",
    "                   max_iter=max_iter,tol = tol,n_jobs=n_jobs)\n",
    "    kmeans.fit(df)\n",
    "    wcss.append(kmeans.inertia_)\n",
    "plt.plot(range(1, 11), wcss)\n",
    "plt.title('The Elbow Method')\n",
    "plt.xlabel('Number of clusters')\n",
    "plt.ylabel('WCSS')\n",
    "plt.show()"
   ]
  },
  {
   "cell_type": "code",
   "execution_count": 218,
   "metadata": {
    "collapsed": false,
    "jupyter": {
     "outputs_hidden": false
    }
   },
   "outputs": [
    {
     "data": {
      "image/png": "[encoded data removed]",
      "text/plain": [
       "<matplotlib.figure.Figure at 0x227366306a0>"
      ]
     },
     "metadata": {},
     "output_type": "display_data"
    }
   ],
   "source": [
    "n_clusters = 5\n",
    "kmeans = KMeans(n_clusters = n_clusters, init = 'k-means++', random_state = 42,n_init=n_init,\n",
    "                   max_iter=max_iter,tol = tol,n_jobs=n_jobs)\n",
    "kmeans.fit(df)\n",
    "y_kmeans = kmeans.predict(df)\n",
    "plt.scatter(df.loc[:, 0], df.loc[:, 1], c=y_kmeans, s=50, cmap='viridis')\n",
    "plt.scatter(centers[:, 0], centers[:, 1], c='black', s=200, alpha=0.5);\n",
    "plt.show()"
   ]
  },
  {
   "cell_type": "code",
   "execution_count": 219,
   "metadata": {
    "collapsed": true,
    "jupyter": {
     "outputs_hidden": true
    }
   },
   "outputs": [],
   "source": [
    "new_data['cluster'] =  pd.Series(y_kmeans)"
   ]
  },
  {
   "cell_type": "code",
   "execution_count": 220,
   "metadata": {
    "collapsed": false,
    "jupyter": {
     "outputs_hidden": false
    }
   },
   "outputs": [
    {
     "data": {
      "text/html": [
       "<div>\n",
       "<table border=\"1\" class=\"dataframe\">\n",
       "  <thead>\n",
       "    <tr style=\"text-align: right;\">\n",
       "      <th></th>\n",
       "      <th>branch</th>\n",
       "      <th>active_agent</th>\n",
       "      <th>active_borrowers</th>\n",
       "      <th>deliquency_rate</th>\n",
       "      <th>outstanding</th>\n",
       "      <th>weekly_disbursement</th>\n",
       "      <th>weekly_new_borrower_per_bp</th>\n",
       "      <th>cluster</th>\n",
       "    </tr>\n",
       "  </thead>\n",
       "  <tbody>\n",
       "    <tr>\n",
       "      <th>0</th>\n",
       "      <td>POINTID_42</td>\n",
       "      <td>4.421053</td>\n",
       "      <td>785.508772</td>\n",
       "      <td>1.140351</td>\n",
       "      <td>1853.508772</td>\n",
       "      <td>98.859649</td>\n",
       "      <td>9.406244</td>\n",
       "      <td>0.0</td>\n",
       "    </tr>\n",
       "    <tr>\n",
       "      <th>1</th>\n",
       "      <td>POINTID_35</td>\n",
       "      <td>4.968254</td>\n",
       "      <td>1004.777778</td>\n",
       "      <td>2.603175</td>\n",
       "      <td>1975.396825</td>\n",
       "      <td>101.349206</td>\n",
       "      <td>9.732634</td>\n",
       "      <td>2.0</td>\n",
       "    </tr>\n",
       "    <tr>\n",
       "      <th>2</th>\n",
       "      <td>POINTID_24</td>\n",
       "      <td>4.058824</td>\n",
       "      <td>591.044118</td>\n",
       "      <td>1.220588</td>\n",
       "      <td>1135.294118</td>\n",
       "      <td>57.573529</td>\n",
       "      <td>7.381406</td>\n",
       "      <td>0.0</td>\n",
       "    </tr>\n",
       "    <tr>\n",
       "      <th>3</th>\n",
       "      <td>POINTID_62</td>\n",
       "      <td>2.217391</td>\n",
       "      <td>327.826087</td>\n",
       "      <td>1.000000</td>\n",
       "      <td>802.173913</td>\n",
       "      <td>86.304348</td>\n",
       "      <td>16.137214</td>\n",
       "      <td>1.0</td>\n",
       "    </tr>\n",
       "    <tr>\n",
       "      <th>4</th>\n",
       "      <td>POINTID_45</td>\n",
       "      <td>7.767857</td>\n",
       "      <td>1302.267857</td>\n",
       "      <td>1.232143</td>\n",
       "      <td>3075.000000</td>\n",
       "      <td>175.178571</td>\n",
       "      <td>11.484927</td>\n",
       "      <td>3.0</td>\n",
       "    </tr>\n",
       "  </tbody>\n",
       "</table>\n",
       "</div>"
      ],
      "text/plain": [
       "       branch  active_agent  active_borrowers  deliquency_rate  outstanding  \\\n",
       "0  POINTID_42      4.421053        785.508772         1.140351  1853.508772   \n",
       "1  POINTID_35      4.968254       1004.777778         2.603175  1975.396825   \n",
       "2  POINTID_24      4.058824        591.044118         1.220588  1135.294118   \n",
       "3  POINTID_62      2.217391        327.826087         1.000000   802.173913   \n",
       "4  POINTID_45      7.767857       1302.267857         1.232143  3075.000000   \n",
       "\n",
       "   weekly_disbursement  weekly_new_borrower_per_bp  cluster  \n",
       "0            98.859649                    9.406244      0.0  \n",
       "1           101.349206                    9.732634      2.0  \n",
       "2            57.573529                    7.381406      0.0  \n",
       "3            86.304348                   16.137214      1.0  \n",
       "4           175.178571                   11.484927      3.0  "
      ]
     },
     "execution_count": 220,
     "metadata": {},
     "output_type": "execute_result"
    }
   ],
   "source": [
    "new_data = new_data[['branch','active_agent','active_borrowers','deliquency_rate','outstanding',\n",
    "                    'weekly_disbursement','weekly_new_borrower_per_bp','cluster']]\n",
    "new_data.head()"
   ]
  },
  {
   "cell_type": "code",
   "execution_count": 221,
   "metadata": {
    "collapsed": false,
    "jupyter": {
     "outputs_hidden": false
    }
   },
   "outputs": [
    {
     "data": {
      "text/html": [
       "<div>\n",
       "<table border=\"1\" class=\"dataframe\">\n",
       "  <thead>\n",
       "    <tr style=\"text-align: right;\">\n",
       "      <th></th>\n",
       "      <th>branch</th>\n",
       "      <th>active_agent</th>\n",
       "      <th>active_borrowers</th>\n",
       "      <th>deliquency_rate</th>\n",
       "      <th>outstanding</th>\n",
       "      <th>weekly_disbursement</th>\n",
       "      <th>weekly_new_borrower_per_bp</th>\n",
       "      <th>cluster</th>\n",
       "    </tr>\n",
       "  </thead>\n",
       "  <tbody>\n",
       "    <tr>\n",
       "      <th>49</th>\n",
       "      <td>POINTID_8</td>\n",
       "      <td>7.046296</td>\n",
       "      <td>1220.972222</td>\n",
       "      <td>1.092593</td>\n",
       "      <td>2276.388889</td>\n",
       "      <td>121.018519</td>\n",
       "      <td>8.998807</td>\n",
       "      <td>2.0</td>\n",
       "    </tr>\n",
       "  </tbody>\n",
       "</table>\n",
       "</div>"
      ],
      "text/plain": [
       "       branch  active_agent  active_borrowers  deliquency_rate  outstanding  \\\n",
       "49  POINTID_8      7.046296       1220.972222         1.092593  2276.388889   \n",
       "\n",
       "    weekly_disbursement  weekly_new_borrower_per_bp  cluster  \n",
       "49           121.018519                    8.998807      2.0  "
      ]
     },
     "execution_count": 221,
     "metadata": {},
     "output_type": "execute_result"
    }
   ],
   "source": [
    "new_data.loc[new_data['branch'] == 'POINTID_8',:]"
   ]
  },
  {
   "cell_type": "code",
   "execution_count": 222,
   "metadata": {
    "collapsed": true,
    "jupyter": {
     "outputs_hidden": true
    }
   },
   "outputs": [],
   "source": [
    "def cl(n):\n",
    "    value = []\n",
    "    for i in num:\n",
    "        value.append(new_data.loc[new_data['cluster']==n,:].describe().loc['mean',i])\n",
    "    return value"
   ]
  },
  {
   "cell_type": "code",
   "execution_count": 223,
   "metadata": {
    "collapsed": true,
    "jupyter": {
     "outputs_hidden": true
    }
   },
   "outputs": [],
   "source": [
    "cluster_0 = cl(0)\n",
    "cluster_1 = cl(1)\n",
    "cluster_2 = cl(2)\n",
    "cluster_3 = cl(3)\n",
    "cluster_4 = cl(4)\n",
    "#cluster_5 = cl(5)\n"
   ]
  },
  {
   "cell_type": "code",
   "execution_count": 224,
   "metadata": {
    "collapsed": false,
    "jupyter": {
     "outputs_hidden": false
    }
   },
   "outputs": [
    {
     "data": {
      "text/plain": [
       "Index(['active_borrowers', 'active_agent', 'deliquency_rate', 'outstanding',\n",
       "       'weekly_disbursement', 'weekly_new_borrower_per_bp'],\n",
       "      dtype='object')"
      ]
     },
     "execution_count": 224,
     "metadata": {},
     "output_type": "execute_result"
    }
   ],
   "source": [
    "num"
   ]
  },
  {
   "cell_type": "code",
   "execution_count": 225,
   "metadata": {
    "collapsed": false,
    "jupyter": {
     "outputs_hidden": false
    }
   },
   "outputs": [
    {
     "data": {
      "image/png": "[encoded data removed]",
      "text/plain": [
       "<matplotlib.figure.Figure at 0x22738b199b0>"
      ]
     },
     "metadata": {},
     "output_type": "display_data"
    }
   ],
   "source": [
    "x = 0\n",
    "w= 1\n",
    "plt.figure(figsize=(15,9))\n",
    "label = ['jumlah peminjam','agen yang bekerja','persentase pinjaman bermasalah','sisa pinjaman yang belum terbayar',\n",
    "        'jumlah pencairan tiap minggu','jumlah mitra baru tiap minggu']\n",
    "for i in range(1, 7):\n",
    "    plt.subplot(2, 3, i)\n",
    "    fig1 = plt.bar(x,cluster_0[i-1],color='y')\n",
    "    fig2 = plt.bar(x+w,cluster_1[i-1],color='g')\n",
    "    fig3 = plt.bar(x+2*w,cluster_2[i-1],color='r')\n",
    "    fig4 = plt.bar(x+3*w,cluster_3[i-1],color='b')\n",
    "    fig5 = plt.bar(x+4*w,cluster_4[i-1],color='c')\n",
    "    #fig6 = plt.bar(x+5*w,cluster_5[i-1],color='m')\n",
    "    plt.title(label[i-1])\n",
    "    plt.legend(['0','1','2','3','4'])\n",
    "plt.savefig('graph1.png')\n",
    "plt.show()"
   ]
  },
  {
   "cell_type": "markdown",
   "metadata": {},
   "source": [
    "#### Hipotesis 1"
   ]
  },
  {
   "cell_type": "markdown",
   "metadata": {},
   "source": [
    "Cluster 0 kemungkinan adalah cabang yang sudah cukup lama beroperasi, namun memiliki performa yang baik dengan kecilnya rata-rata persentase pinjaman yang bermasalah. Sisa pinjaman yg belum terbayar, jumlah pencairan tiap minggu dan jumlah mitra baru tiap minggunya dalam angka menengah tidak terlalu rendah atau tinggi.\n"
   ]
  },
  {
   "cell_type": "markdown",
   "metadata": {},
   "source": [
    "Cluster 1 kemungkinan adalah cabang baru, karena memiliki rata-rata jumlah peminjam yang rendah namun memiliki rata-rata jumlah mitra baru tiap minggu yang relatif lebih tinggi. Cluster ini masih memiliki nilai rata2 persentase pinjaman bermasalah yg rendah."
   ]
  },
  {
   "cell_type": "markdown",
   "metadata": {},
   "source": [
    "Cluster 2 kemungkinan adalah cabang yg sudah cukup lama beroperasi namun performanya buruk krna rata2 persentase pinjaman bermasalahnya paling tinggi. Cluster ini jg merupakan cluster yang memiliki rata2 jumlah mitra baru paling sedikit."
   ]
  },
  {
   "cell_type": "markdown",
   "metadata": {},
   "source": [
    "Cluster 3 kemungkinan adalah cabang yg beroperasi cukup lama namun rata2 persentase pinjaman bermasalahnya relatif kecil, dan rata2 jumlah mitra barunya dalam tingkat menengah. Rata2 sisa pinjaman yg blm terbayar serta jumlah pencairan tiap minggunya paling tinggi kemungkinan disebabkan oleh rata2 jumlah peminjamnya yg banyak."
   ]
  },
  {
   "cell_type": "markdown",
   "metadata": {},
   "source": [
    "Cluster 4 kemungkinan adalah cabang baru krna rata2 jumlah peminjamnya relatif sedikit, namun cluster ini memiliki jumlah mitra baru paling tinggi"
   ]
  },
  {
   "cell_type": "markdown",
   "metadata": {},
   "source": [
    "#### Analisis selanjutnya untuk validasi hipotesis di atas dan melihat pengaruh variabel terhadap persentase pinjaman bermasalah yaitu dengan membuat variabel baru dari rasio variabel lama"
   ]
  },
  {
   "cell_type": "code",
   "execution_count": 80,
   "metadata": {
    "collapsed": false,
    "jupyter": {
     "outputs_hidden": false
    }
   },
   "outputs": [
    {
     "data": {
      "text/plain": [
       "Index(['active_borrowers', 'active_agent', 'deliquency_rate', 'outstanding',\n",
       "       'weekly_disbursement', 'weekly_new_borrower_per_bp'],\n",
       "      dtype='object')"
      ]
     },
     "execution_count": 80,
     "metadata": {},
     "output_type": "execute_result"
    }
   ],
   "source": [
    "num"
   ]
  },
  {
   "cell_type": "code",
   "execution_count": 142,
   "metadata": {
    "collapsed": false,
    "jupyter": {
     "outputs_hidden": false
    }
   },
   "outputs": [],
   "source": [
    "borrower_agent_ratio = new_data.loc[:,'active_agent']/new_data.loc[:,'active_borrowers']*100\n",
    "outstanding_disbursement_ratio = new_data.loc[:,'outstanding']/new_data.loc[:,'weekly_disbursement']\n",
    "borrower_new_borrower_ratio = new_data.loc[:,'weekly_new_borrower_per_bp']/new_data.loc[:,'active_borrowers']*100\n",
    "borrower_disbursement_ratio = new_data.loc[:,'active_borrowers']/new_data.loc[:,'weekly_disbursement']"
   ]
  },
  {
   "cell_type": "code",
   "execution_count": 143,
   "metadata": {
    "collapsed": true,
    "jupyter": {
     "outputs_hidden": true
    }
   },
   "outputs": [],
   "source": [
    "new_data_var = pd.DataFrame({'rasio pekerja dan peminjam':borrower_agent_ratio, 'rasio sisa pinjaman dan pencairan':outstanding_disbursement_ratio,\n",
    "                            'rasio peminjam baru dan lama':borrower_new_borrower_ratio,'rasio peminjam dan pencairan': borrower_disbursement_ratio,\n",
    "                            'cluster':new_data.loc[:,'cluster']})"
   ]
  },
  {
   "cell_type": "code",
   "execution_count": 144,
   "metadata": {
    "collapsed": false,
    "jupyter": {
     "outputs_hidden": false
    }
   },
   "outputs": [
    {
     "data": {
      "text/html": [
       "<div>\n",
       "<table border=\"1\" class=\"dataframe\">\n",
       "  <thead>\n",
       "    <tr style=\"text-align: right;\">\n",
       "      <th></th>\n",
       "      <th>cluster</th>\n",
       "      <th>rasio pekerja dan peminjam</th>\n",
       "      <th>rasio peminjam baru dan lama</th>\n",
       "      <th>rasio peminjam dan pencairan</th>\n",
       "      <th>rasio sisa pinjaman dan pencairan</th>\n",
       "    </tr>\n",
       "  </thead>\n",
       "  <tbody>\n",
       "    <tr>\n",
       "      <th>0</th>\n",
       "      <td>0.0</td>\n",
       "      <td>0.562827</td>\n",
       "      <td>1.197472</td>\n",
       "      <td>7.945697</td>\n",
       "      <td>18.748891</td>\n",
       "    </tr>\n",
       "    <tr>\n",
       "      <th>1</th>\n",
       "      <td>2.0</td>\n",
       "      <td>0.494463</td>\n",
       "      <td>0.968635</td>\n",
       "      <td>9.914017</td>\n",
       "      <td>19.490995</td>\n",
       "    </tr>\n",
       "    <tr>\n",
       "      <th>2</th>\n",
       "      <td>0.0</td>\n",
       "      <td>0.686721</td>\n",
       "      <td>1.248876</td>\n",
       "      <td>10.265900</td>\n",
       "      <td>19.719029</td>\n",
       "    </tr>\n",
       "    <tr>\n",
       "      <th>3</th>\n",
       "      <td>1.0</td>\n",
       "      <td>0.676393</td>\n",
       "      <td>4.922492</td>\n",
       "      <td>3.798489</td>\n",
       "      <td>9.294710</td>\n",
       "    </tr>\n",
       "    <tr>\n",
       "      <th>4</th>\n",
       "      <td>3.0</td>\n",
       "      <td>0.596487</td>\n",
       "      <td>0.881917</td>\n",
       "      <td>7.433945</td>\n",
       "      <td>17.553517</td>\n",
       "    </tr>\n",
       "  </tbody>\n",
       "</table>\n",
       "</div>"
      ],
      "text/plain": [
       "   cluster  rasio pekerja dan peminjam  rasio peminjam baru dan lama  \\\n",
       "0      0.0                    0.562827                      1.197472   \n",
       "1      2.0                    0.494463                      0.968635   \n",
       "2      0.0                    0.686721                      1.248876   \n",
       "3      1.0                    0.676393                      4.922492   \n",
       "4      3.0                    0.596487                      0.881917   \n",
       "\n",
       "   rasio peminjam dan pencairan  rasio sisa pinjaman dan pencairan  \n",
       "0                      7.945697                          18.748891  \n",
       "1                      9.914017                          19.490995  \n",
       "2                     10.265900                          19.719029  \n",
       "3                      3.798489                           9.294710  \n",
       "4                      7.433945                          17.553517  "
      ]
     },
     "execution_count": 144,
     "metadata": {},
     "output_type": "execute_result"
    }
   ],
   "source": [
    "new_data_var.head()"
   ]
  },
  {
   "cell_type": "code",
   "execution_count": 145,
   "metadata": {
    "collapsed": false,
    "jupyter": {
     "outputs_hidden": false
    }
   },
   "outputs": [
    {
     "data": {
      "text/plain": [
       "['rasio pekerja dan peminjam',\n",
       " 'rasio peminjam baru dan lama',\n",
       " 'rasio peminjam dan pencairan',\n",
       " 'rasio sisa pinjaman dan pencairan']"
      ]
     },
     "execution_count": 145,
     "metadata": {},
     "output_type": "execute_result"
    }
   ],
   "source": [
    "col = list(new_data_var.columns[1:])\n",
    "col"
   ]
  },
  {
   "cell_type": "code",
   "execution_count": 146,
   "metadata": {
    "collapsed": false,
    "jupyter": {
     "outputs_hidden": false
    }
   },
   "outputs": [
    {
     "data": {
      "text/html": [
       "<div>\n",
       "<table border=\"1\" class=\"dataframe\">\n",
       "  <thead>\n",
       "    <tr style=\"text-align: right;\">\n",
       "      <th></th>\n",
       "      <th>rasio pekerja dan peminjam</th>\n",
       "      <th>rasio peminjam baru dan lama</th>\n",
       "      <th>rasio peminjam dan pencairan</th>\n",
       "      <th>rasio sisa pinjaman dan pencairan</th>\n",
       "    </tr>\n",
       "  </thead>\n",
       "  <tbody>\n",
       "    <tr>\n",
       "      <th>0</th>\n",
       "      <td>0.562827</td>\n",
       "      <td>1.197472</td>\n",
       "      <td>7.945697</td>\n",
       "      <td>18.748891</td>\n",
       "    </tr>\n",
       "    <tr>\n",
       "      <th>2</th>\n",
       "      <td>0.686721</td>\n",
       "      <td>1.248876</td>\n",
       "      <td>10.265900</td>\n",
       "      <td>19.719029</td>\n",
       "    </tr>\n",
       "    <tr>\n",
       "      <th>13</th>\n",
       "      <td>0.482996</td>\n",
       "      <td>1.414204</td>\n",
       "      <td>7.720169</td>\n",
       "      <td>16.567797</td>\n",
       "    </tr>\n",
       "    <tr>\n",
       "      <th>14</th>\n",
       "      <td>0.589704</td>\n",
       "      <td>1.887907</td>\n",
       "      <td>9.092020</td>\n",
       "      <td>18.566085</td>\n",
       "    </tr>\n",
       "    <tr>\n",
       "      <th>15</th>\n",
       "      <td>0.466423</td>\n",
       "      <td>1.662458</td>\n",
       "      <td>9.070673</td>\n",
       "      <td>18.185096</td>\n",
       "    </tr>\n",
       "    <tr>\n",
       "      <th>22</th>\n",
       "      <td>0.436146</td>\n",
       "      <td>1.610913</td>\n",
       "      <td>8.228411</td>\n",
       "      <td>16.859813</td>\n",
       "    </tr>\n",
       "    <tr>\n",
       "      <th>30</th>\n",
       "      <td>0.501548</td>\n",
       "      <td>1.558032</td>\n",
       "      <td>7.021230</td>\n",
       "      <td>18.871104</td>\n",
       "    </tr>\n",
       "    <tr>\n",
       "      <th>35</th>\n",
       "      <td>0.740840</td>\n",
       "      <td>1.293528</td>\n",
       "      <td>8.526527</td>\n",
       "      <td>17.604962</td>\n",
       "    </tr>\n",
       "    <tr>\n",
       "      <th>42</th>\n",
       "      <td>0.423946</td>\n",
       "      <td>1.164929</td>\n",
       "      <td>7.239460</td>\n",
       "      <td>17.605396</td>\n",
       "    </tr>\n",
       "    <tr>\n",
       "      <th>44</th>\n",
       "      <td>0.463044</td>\n",
       "      <td>1.612675</td>\n",
       "      <td>9.069921</td>\n",
       "      <td>18.183882</td>\n",
       "    </tr>\n",
       "    <tr>\n",
       "      <th>62</th>\n",
       "      <td>0.762344</td>\n",
       "      <td>1.423827</td>\n",
       "      <td>9.870545</td>\n",
       "      <td>19.962871</td>\n",
       "    </tr>\n",
       "    <tr>\n",
       "      <th>64</th>\n",
       "      <td>0.581268</td>\n",
       "      <td>1.108156</td>\n",
       "      <td>7.141184</td>\n",
       "      <td>16.811971</td>\n",
       "    </tr>\n",
       "    <tr>\n",
       "      <th>66</th>\n",
       "      <td>0.523990</td>\n",
       "      <td>2.311532</td>\n",
       "      <td>7.923105</td>\n",
       "      <td>17.527076</td>\n",
       "    </tr>\n",
       "    <tr>\n",
       "      <th>70</th>\n",
       "      <td>0.703110</td>\n",
       "      <td>2.635729</td>\n",
       "      <td>3.600000</td>\n",
       "      <td>10.641711</td>\n",
       "    </tr>\n",
       "    <tr>\n",
       "      <th>91</th>\n",
       "      <td>0.640805</td>\n",
       "      <td>1.985502</td>\n",
       "      <td>4.188456</td>\n",
       "      <td>12.092352</td>\n",
       "    </tr>\n",
       "  </tbody>\n",
       "</table>\n",
       "</div>"
      ],
      "text/plain": [
       "    rasio pekerja dan peminjam  rasio peminjam baru dan lama  \\\n",
       "0                     0.562827                      1.197472   \n",
       "2                     0.686721                      1.248876   \n",
       "13                    0.482996                      1.414204   \n",
       "14                    0.589704                      1.887907   \n",
       "15                    0.466423                      1.662458   \n",
       "22                    0.436146                      1.610913   \n",
       "30                    0.501548                      1.558032   \n",
       "35                    0.740840                      1.293528   \n",
       "42                    0.423946                      1.164929   \n",
       "44                    0.463044                      1.612675   \n",
       "62                    0.762344                      1.423827   \n",
       "64                    0.581268                      1.108156   \n",
       "66                    0.523990                      2.311532   \n",
       "70                    0.703110                      2.635729   \n",
       "91                    0.640805                      1.985502   \n",
       "\n",
       "    rasio peminjam dan pencairan  rasio sisa pinjaman dan pencairan  \n",
       "0                       7.945697                          18.748891  \n",
       "2                      10.265900                          19.719029  \n",
       "13                      7.720169                          16.567797  \n",
       "14                      9.092020                          18.566085  \n",
       "15                      9.070673                          18.185096  \n",
       "22                      8.228411                          16.859813  \n",
       "30                      7.021230                          18.871104  \n",
       "35                      8.526527                          17.604962  \n",
       "42                      7.239460                          17.605396  \n",
       "44                      9.069921                          18.183882  \n",
       "62                      9.870545                          19.962871  \n",
       "64                      7.141184                          16.811971  \n",
       "66                      7.923105                          17.527076  \n",
       "70                      3.600000                          10.641711  \n",
       "91                      4.188456                          12.092352  "
      ]
     },
     "execution_count": 146,
     "metadata": {},
     "output_type": "execute_result"
    }
   ],
   "source": [
    "new_data_var.loc[new_data_var['cluster']==0,col]"
   ]
  },
  {
   "cell_type": "code",
   "execution_count": 147,
   "metadata": {
    "collapsed": true,
    "jupyter": {
     "outputs_hidden": true
    }
   },
   "outputs": [],
   "source": [
    "def new_cl(n):\n",
    "    global col\n",
    "    value = []\n",
    "    for i in col:\n",
    "        value.append(new_data_var.loc[new_data_var['cluster']==n,:].describe().loc['mean',i])\n",
    "    return value"
   ]
  },
  {
   "cell_type": "code",
   "execution_count": 148,
   "metadata": {
    "collapsed": false,
    "jupyter": {
     "outputs_hidden": false
    }
   },
   "outputs": [],
   "source": [
    "new_cluster0 = new_cl(0)\n",
    "new_cluster1 = new_cl(1)\n",
    "new_cluster2 = new_cl(2)\n",
    "new_cluster3 = new_cl(3)\n",
    "new_cluster4 = new_cl(4)"
   ]
  },
  {
   "cell_type": "code",
   "execution_count": 149,
   "metadata": {
    "collapsed": false,
    "jupyter": {
     "outputs_hidden": false
    }
   },
   "outputs": [
    {
     "data": {
      "image/png": "[encoded data removed]",
      "text/plain": [
       "<matplotlib.figure.Figure at 0x22737de6c88>"
      ]
     },
     "metadata": {},
     "output_type": "display_data"
    }
   ],
   "source": [
    "x = 0\n",
    "w= 1\n",
    "plt.figure(figsize=(15,9))\n",
    "label = new_data_var.columns[1:]\n",
    "for i in range(1, 5):\n",
    "    plt.subplot(2, 2, i)\n",
    "    fig1 = plt.bar(x,new_cluster0[i-1],color='y')\n",
    "    fig2 = plt.bar(x+w,new_cluster1[i-1],color='g')\n",
    "    fig3 = plt.bar(x+2*w,new_cluster2[i-1],color='r')\n",
    "    fig4 = plt.bar(x+3*w,new_cluster3[i-1],color='b')\n",
    "    fig5 = plt.bar(x+4*w,new_cluster4[i-1],color='c')\n",
    "    plt.title(label[i-1])\n",
    "    plt.legend(['0','1','2','3','4'])\n",
    "plt.savefig('graph2.png')\n",
    "plt.show()"
   ]
  },
  {
   "cell_type": "markdown",
   "metadata": {},
   "source": [
    "Dari grafik dapat divalidasi bahwa hipotesis mengenai masing-masing cluster adalah benar. Cluster 1 dan 4 adalah cabang baru yang dikarakteristikkan oleh rasio peminjam baru dan lama yang tinggi, namun rasio peminjam dan pencairan serta rasio sisa pinjaman dan pencairannya rendah. Dari rasio2 tersebut juga dapat terbukti bahwa cluster 0, 2, dan 3 adalah cabang lama."
   ]
  },
  {
   "cell_type": "markdown",
   "metadata": {},
   "source": [
    "Hal ini juga dapat divalidasi dari variabel 'first_date_disbursement'"
   ]
  },
  {
   "cell_type": "markdown",
   "metadata": {},
   "source": [
    "#### Hipotesis 2: Variabel penting yang membedakan antara cluster adalah rasio peminjam dan pencairan serta rasio sisa pinjaman dan pencairan. Hal ini terlihat dari cluster 2 memiliki nilai paling tinggi untuk dua variabel tersebut, sedangkan cluster 0 dan 3 hampir sama walaupun perbedaannya sedikit."
   ]
  },
  {
   "cell_type": "code",
   "execution_count": 162,
   "metadata": {
    "collapsed": false,
    "jupyter": {
     "outputs_hidden": false
    }
   },
   "outputs": [
    {
     "name": "stdout",
     "output_type": "stream",
     "text": [
      "POINTID_62 ['2018-05-05']\n",
      "POINTID_111 ['2018-09-22']\n",
      "POINTID_103 ['2018-08-18']\n",
      "POINTID_98 ['2018-07-14']\n",
      "POINTID_80 ['2018-07-21']\n",
      "POINTID_59 ['2018-05-05']\n",
      "POINTID_82 ['2018-07-21']\n",
      "POINTID_113 ['2018-09-29']\n",
      "POINTID_64 ['2018-05-05']\n",
      "POINTID_92 ['2018-07-28']\n",
      "POINTID_104 ['2018-09-15']\n",
      "POINTID_83 ['2018-07-14']\n",
      "POINTID_86 ['2018-07-21']\n",
      "POINTID_89 ['2018-07-28']\n",
      "POINTID_63 ['2018-05-05']\n",
      "POINTID_73 ['2018-05-26']\n",
      "POINTID_61 ['2018-07-21']\n",
      "POINTID_91 ['2018-07-28']\n",
      "POINTID_71 ['2018-06-02']\n",
      "POINTID_99 ['2018-08-18']\n",
      "POINTID_102 ['2018-08-04']\n",
      "POINTID_88 ['2018-09-08']\n",
      "POINTID_100 ['2018-08-11']\n",
      "POINTID_110 ['2018-09-08']\n",
      "POINTID_112 ['2018-09-29']\n",
      "POINTID_107 ['2018-08-25']\n",
      "POINTID_81 ['2018-07-21']\n",
      "POINTID_77 ['2018-07-14']\n",
      "POINTID_60 ['2018-04-28']\n",
      "POINTID_96 ['2018-08-18']\n",
      "POINTID_65 ['2018-05-26']\n",
      "POINTID_109 ['2018-09-08']\n",
      "POINTID_90 ['2018-08-11']\n",
      "POINTID_72 ['2018-05-19']\n",
      "POINTID_79 ['2018-08-04']\n"
     ]
    }
   ],
   "source": [
    "branch1 = new_data.loc[new_data['cluster']==1,'branch']\n",
    "for i in branch1:\n",
    "    print(i,data.loc[data['branch']==i,'first_date_disbursement'].unique())"
   ]
  },
  {
   "cell_type": "code",
   "execution_count": 163,
   "metadata": {
    "collapsed": false,
    "jupyter": {
     "outputs_hidden": false
    }
   },
   "outputs": [
    {
     "name": "stdout",
     "output_type": "stream",
     "text": [
      "POINTID_94 ['2018-07-28']\n",
      "POINTID_101 ['2018-08-04']\n",
      "POINTID_85 ['2018-08-04']\n",
      "POINTID_87 ['2018-07-21']\n",
      "POINTID_95 ['2018-08-11']\n",
      "POINTID_76 ['2018-08-11']\n",
      "POINTID_68 ['2018-06-30']\n",
      "POINTID_93 ['2018-07-28']\n",
      "POINTID_105 ['2018-08-25']\n",
      "POINTID_78 ['2018-05-26']\n",
      "POINTID_66 ['2018-05-26']\n",
      "POINTID_75 ['2018-05-26']\n",
      "POINTID_108 ['2018-08-18']\n",
      "POINTID_74 ['2018-07-07']\n",
      "POINTID_97 ['2018-07-21']\n"
     ]
    }
   ],
   "source": [
    "branch4 = new_data.loc[new_data['cluster']==4,'branch']\n",
    "for i in branch4:\n",
    "    print(i,data.loc[data['branch']==i,'first_date_disbursement'].unique())"
   ]
  },
  {
   "cell_type": "code",
   "execution_count": 164,
   "metadata": {
    "collapsed": false,
    "jupyter": {
     "outputs_hidden": false
    }
   },
   "outputs": [
    {
     "name": "stdout",
     "output_type": "stream",
     "text": [
      "POINTID_42 ['2017-09-09']\n",
      "POINTID_24 ['2017-06-10']\n",
      "POINTID_54 ['2017-11-11']\n",
      "POINTID_57 ['2017-11-11']\n",
      "POINTID_56 ['2017-11-11']\n",
      "POINTID_53 ['2017-11-11']\n",
      "POINTID_33 ['2017-07-22']\n",
      "POINTID_25 ['2017-06-10']\n",
      "POINTID_34 ['2017-07-15']\n",
      "POINTID_55 ['2017-11-04']\n",
      "POINTID_28 ['2017-06-03']\n",
      "POINTID_48 ['2017-09-09']\n",
      "POINTID_58 ['2018-01-13']\n",
      "POINTID_70 ['2018-05-12']\n",
      "POINTID_67 ['2018-04-28']\n"
     ]
    }
   ],
   "source": [
    "branch0 = new_data.loc[new_data['cluster']==0,'branch']\n",
    "for i in branch0:\n",
    "    print(i,data.loc[data['branch']==i,'first_date_disbursement'].unique())"
   ]
  },
  {
   "cell_type": "code",
   "execution_count": 165,
   "metadata": {
    "collapsed": false,
    "jupyter": {
     "outputs_hidden": false
    }
   },
   "outputs": [
    {
     "name": "stdout",
     "output_type": "stream",
     "text": [
      "POINTID_35 ['2017-07-29']\n",
      "POINTID_50 ['2017-09-09']\n",
      "POINTID_20 ['2017-04-22']\n",
      "POINTID_22 ['2017-04-29']\n",
      "POINTID_10 ['2016-09-10']\n",
      "POINTID_49 ['2017-09-16']\n",
      "POINTID_8 ['2016-09-03']\n",
      "POINTID_38 ['2017-08-12']\n",
      "POINTID_37 ['2017-08-05']\n",
      "POINTID_44 ['2017-09-09']\n",
      "POINTID_36 ['2017-08-12']\n",
      "POINTID_32 ['2017-07-22']\n",
      "POINTID_51 ['2017-09-09']\n",
      "POINTID_15 ['2016-11-12']\n",
      "POINTID_23 ['2017-05-06']\n",
      "POINTID_14 ['2016-10-15']\n",
      "POINTID_43 ['2017-09-09']\n",
      "POINTID_12 ['2016-10-08']\n",
      "POINTID_41 ['2017-08-19']\n",
      "POINTID_9 ['2016-09-17']\n",
      "POINTID_19 ['2017-04-15']\n"
     ]
    }
   ],
   "source": [
    "branch2 = new_data.loc[new_data['cluster']==2,'branch']\n",
    "for i in branch2:\n",
    "    print(i,data.loc[data['branch']==i,'first_date_disbursement'].unique())"
   ]
  },
  {
   "cell_type": "code",
   "execution_count": 166,
   "metadata": {
    "collapsed": false,
    "jupyter": {
     "outputs_hidden": false
    }
   },
   "outputs": [
    {
     "name": "stdout",
     "output_type": "stream",
     "text": [
      "POINTID_45 ['2017-09-16']\n",
      "POINTID_52 ['2017-09-09']\n",
      "POINTID_46 ['2017-09-16']\n",
      "POINTID_16 ['2017-03-25']\n",
      "POINTID_40 ['2017-08-26']\n",
      "POINTID_31 ['2017-07-29']\n",
      "POINTID_47 ['2017-09-16']\n",
      "POINTID_39 ['2017-08-19']\n",
      "POINTID_30 ['2017-07-29']\n",
      "POINTID_29 ['2017-07-29']\n",
      "POINTID_17 ['2017-03-25']\n"
     ]
    }
   ],
   "source": [
    "branch3 = new_data.loc[new_data['cluster']==3,'branch']\n",
    "for i in branch3:\n",
    "    print(i,data.loc[data['branch']==i,'first_date_disbursement'].unique())"
   ]
  },
  {
   "cell_type": "markdown",
   "metadata": {},
   "source": [
    "#### Terbukti bahwa hipotesis 1 masing-masing cluster adalah benar"
   ]
  },
  {
   "cell_type": "code",
   "execution_count": 230,
   "metadata": {
    "collapsed": true,
    "jupyter": {
     "outputs_hidden": true
    }
   },
   "outputs": [],
   "source": [
    "new_data_var['branch'] = new_data['branch'].copy()"
   ]
  },
  {
   "cell_type": "code",
   "execution_count": 226,
   "metadata": {
    "collapsed": true,
    "jupyter": {
     "outputs_hidden": true
    }
   },
   "outputs": [],
   "source": [
    "new_data.to_excel('amartha.xlsx')"
   ]
  },
  {
   "cell_type": "code",
   "execution_count": 232,
   "metadata": {
    "collapsed": true,
    "jupyter": {
     "outputs_hidden": true
    }
   },
   "outputs": [],
   "source": [
    "new_data_var.to_excel('new var amartha.xlsx')"
   ]
  },
  {
   "cell_type": "markdown",
   "metadata": {},
   "source": [
    "#### Analisis selanjutnya dilakukan dengan Tableau"
   ]
  },
  {
   "cell_type": "code",
   "execution_count": null,
   "metadata": {
    "collapsed": true,
    "jupyter": {
     "outputs_hidden": true
    }
   },
   "outputs": [],
   "source": []
  }
 ],
 "metadata": {
  "kernelspec": {
   "display_name": "Python 3",
   "language": "python",
   "name": "python3"
  },
  "language_info": {
   "codemirror_mode": {
    "name": "ipython",
    "version": 3
   },
   "file_extension": ".py",
   "mimetype": "text/x-python",
   "name": "python",
   "nbconvert_exporter": "python",
   "pygments_lexer": "ipython3",
   "version": "3.7.6"
  }
 },
 "nbformat": 4,
 "nbformat_minor": 4
}
